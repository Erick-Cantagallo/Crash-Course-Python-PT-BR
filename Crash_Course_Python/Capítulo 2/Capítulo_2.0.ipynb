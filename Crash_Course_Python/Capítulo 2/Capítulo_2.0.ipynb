{
 "cells": [
  {
   "cell_type": "markdown",
   "id": "55de022f",
   "metadata": {},
   "source": [
    "### Contextualização do Problema:\n",
    "#### Escreva um programa separado para cada um desses Exercícios. Salve cada programa com um nome de arquivo que siga as convenções padroes do Python, usando letras minúsculas e underscores, como simple_message.py e simple_messages.py.\n",
    " "
   ]
  },
  {
   "cell_type": "markdown",
   "id": "40dc651d",
   "metadata": {},
   "source": [
    "- **2.1 Simple Message:** Atribua uma mensagem a uma variável e exiba essa mensagem."
   ]
  },
  {
   "cell_type": "markdown",
   "id": "a29b96fe",
   "metadata": {},
   "source": [
    "- **2.2 Simple Messages:** Atribua uma mensagem a uma variável e exiba essa mensagem. Em seguida, mude o valor da variável para uma nova mensagem e mostre a nova mensagem."
   ]
  },
  {
   "cell_type": "markdown",
   "id": "1e4951fd",
   "metadata": {},
   "source": [
    "- **2.3 Mensagem pessoal:** Use uma variável para representar o nome de uma pessoa e exiba uma mensagem para essa pessoa. Sua mensagem deve ser simples, como \"Olá Eric, gostaria de aprender um pouco de Python hoje?\""
   ]
  },
  {
   "cell_type": "markdown",
   "id": "139bdcc0",
   "metadata": {},
   "source": [
    "- **2.4 Maiúsculas e minúsculas:** Use uma variável para representar o nome de uma pessoa e, em seguida, exiba o nome dessa pessoa em letras minúsculas, maiúsculas e as primeiras letras maiúsculas."
   ]
  },
  {
   "cell_type": "markdown",
   "id": "ef072a75",
   "metadata": {},
   "source": [
    "- **2.5 Citação famosa:** Encontre uma citação de uma pessoa famosa que você admira. Exiba a citação e o nome do autor. Sua saída deve se parecer com a seguinte, incluindo as aspas:\n",
    "> Albert Einstein disse uma vez: \"Uma pessoa que nunca cometeu um erro nunca tentou nada de novo.\""
   ]
  },
  {
   "cell_type": "markdown",
   "id": "40942d5b",
   "metadata": {},
   "source": [
    "- **2.6 Citação famosa 2:** Repita o exercício 2.5, mas desta vez represente o nome da pessoa famosa usando uma variável chamada **famous_person**. Depois, escreva sua mensagem e a represente com uma nova variável chamada **message**. Printe sua mensagem."
   ]
  },
  {
   "cell_type": "markdown",
   "id": "7538fe1f",
   "metadata": {},
   "source": [
    "- **2.7 Removendo nomes:** Use uma variável para representar o nome de uma pessoa e inclua alguns caracteres de espaço em branco no início e no final do nome. Lembre-se de usar cada combinação de caracteres, \"/t\" e \"/n\", pelomenos uma vez. Exiba o nome uma vez para que o espaço em branco ao redor do nome seja mostrado. Em seguida, printe o nome usando cada uma das três funções de remoção, \"lstrip()\", \"rstrip()\" e \"strip()\"."
   ]
  },
  {
   "cell_type": "markdown",
   "id": "a054976f",
   "metadata": {},
   "source": [
    "- **2.8 Extensões de arquivo:** O Python tem um método **removesuffix()** que funciona exatamente como **removeprefix()**. Atribua o valor **'python_notes.txt'** a uma variável chamada **filename**. Depois, utilize o método **removesuffix()** para exibir o nome do arquivo sem a extensão do arquivo, como alguns navegadores de arquivos fazem. "
   ]
  },
  {
   "cell_type": "markdown",
   "id": "8cb583bc",
   "metadata": {},
   "source": [
    "- **2.9 Número Oito:** Excreva operações de adição, subtração, multiplicação e divisão que resultem cada uma no número 8. Não se esqueça de incluir suas operações em um **print()** para conferir os resultados. Você deve criar quatro linhas mais ou menos assim:\n",
    "> **print(5+3)**\n",
    "\n",
    "Sua saída deve ter quatro linhas, com no número 8 aparecendo uma vez em, cada linha."
   ]
  },
  {
   "cell_type": "markdown",
   "id": "5a1cba80",
   "metadata": {},
   "source": [
    "- **2.10 Número favorito:** Use uma variável para representar seu número favorito. Em seguida, usando essa variável, crie uma mensagem que revele seu número favorito. Printe essa mensagem."
   ]
  },
  {
   "cell_type": "markdown",
   "id": "62356014",
   "metadata": {},
   "source": [
    "- **2.11 Adicionando comentários:** Escolha dois dos programas que você escreveu e adicione pelo menos um comentário a cada um. Caso não tenha nada específico para escrever porque até agora seus programas são muito simples, basta acrescentar seu nome e a data atual do inicio de cada arquivo do programa. Em seguida, escreva uma frase descrevendo o que o programa faz."
   ]
  }
 ],
 "metadata": {
  "language_info": {
   "name": "python"
  }
 },
 "nbformat": 4,
 "nbformat_minor": 5
}
