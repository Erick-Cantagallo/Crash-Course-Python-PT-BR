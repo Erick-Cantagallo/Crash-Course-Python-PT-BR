{
 "cells": [
  {
   "cell_type": "markdown",
   "id": "279564c6",
   "metadata": {},
   "source": [
    "- **5.1 Testes condicionais:** Escreva uma série de testes condicionais. Exiba uma afirmação com cada teste descrito e a previsão dos resultados de cada teste. Seu código deve ficar mais ou menos assim:\n",
    "\n",
    "> car = 'subaru'\n",
    "\n",
    "> print(\"Is car == 'subaru'? I predict True.\")\n",
    "\n",
    "> print(car == 'subaru')\n",
    "\n",
    "- Preste bastante atenção ao seus resultados e procure entender por que cada linha é avaliada como **True** ou **False**\n",
    "- Crie, pelo menos, 10 testes. Execute, pelo meos, 5 testes avaliados como **True** e outros 5 avaliados como **False**"
   ]
  },
  {
   "cell_type": "markdown",
   "id": "ac2f63de",
   "metadata": {},
   "source": [
    "- **5.2 Mais testes condicionais:** não é necessário restringir o número de testes a 10. Caso queira executar mais comparações, escreva mais testes e os adicione a \"conditional_tests.py\". Gere, pelo menos, um resultado **True** e um **False** para cada condição a seguir:\n",
    "    - Testes com operador de igualdade e de diferença com strings.\n",
    "    - Testes usando o método **lower()**.\n",
    "    - Testes numéricos com operadores de \"igualdade\"(\"=\") e de \"diferença\"(\"!=\"), \"maior e menor que\"(\">\",\"and\",\"<\"), \"maior ou igual que\"(\">\",\"or\",\"=\") e \"menor ou igual a\"(\"<\",\"or\",\"=\")."
   ]
  },
  {
   "cell_type": "markdown",
   "id": "c3ba2c36",
   "metadata": {},
   "source": [
    "- **5.3 Cores de alienígenas #1:** Imagine que um alienígena acabou de ser abatido em um jogo. Crie uma variável chamada **alien_color**  e lhe atribua um valor **'green'**, **'yellow'** ou **'red'**.\n",
    "    - Escreva um instrução **if** para testar se a cor do alienígena é verde. Se for, exiba uma mensagem informando que o jogador acabou de ganhar 5 pontos.\n",
    "    - Escreva uma versão desse programa que passe no teste **if** e outra que falhe. (A versão que falha não gerará saída)"
   ]
  },
  {
   "cell_type": "markdown",
   "id": "79bee6f7",
   "metadata": {},
   "source": [
    "- **5.4 Cores de alienígenas #2:** Escolha uma cor para um alienígena, como no Exercício 5.3, e escreva uma sequência **if-else**.\n",
    "    - Se a cor do alienígena for verde, exiba uma afirmação de que o jogador acabou de ganhar 5 pontos por abrir fogo contra um alienígena.\n",
    "    - Se a cor do alienígena for verde, exiba uma afirmação de que o jogador acabou de ganhar 10 pontos.\n",
    "    - Escreva uma versão desse programa que execute o bloco **if** e outra que execute o bloco **else**."
   ]
  },
  {
   "cell_type": "markdown",
   "id": "2a86e572",
   "metadata": {},
   "source": [
    "- **5.5 Cores alienígenas #3:** Converta sua sequência **if-else** do Exercício 5.4 em uma sequência **if-elif-else**.\n",
    "    - Se o alienígena for verde, exiba uma afirmação de que o jogador ganhou 5 pontos.\n",
    "    - Se o alienígena for amarelo, exiba uma afirmação de que o jogador ganhhou 10 pontos.\n",
    "    - Se o alienígena for vermelho, exiba uma afirmação de que o jogador ganhou 15 pontos.\n",
    "    - Escreva três versões desse programa, assegurando que cada afirmação exibida seja correspondente à cor adequada do alienígena."
   ]
  },
  {
   "cell_type": "markdown",
   "id": "39c617a7",
   "metadata": {},
   "source": [
    "- **5.6 Fases da vida:** Escreva uma sequência **if-elif-else** que determine a fase da vida de uma pessoa. Defina um valor para variável **age**, e depois:\n",
    "    - Se a pessoa tiver menos de 2 anos, exiba uma mensagem informando que a pessoa é um neném.\n",
    "    - Se a pessoa tiver pelo menos 2 anos, e menos de 4, exiba uma mensagem informando que é uma criança.\n",
    "    - Se a pessoa tiver pelo menos 4 anos, e menos de 13, exiba uma mensagem informando que é um(a) garoto(a).\n",
    "    - Se a pessoa tiver pelo menos 13 anos, e menos de 20, exiba uma mensagem informando que é adolescente.\n",
    "    - Se a pessoa tiver pelo menos 20 anos, e menos de 65, exiba uma mensagem informando que é um adulto.\n",
    "    - Se a pessoa tiver 65 anos ou mais, imprima uma mensagem informando que a pessoa é um(a) idoso(a).\n"
   ]
  },
  {
   "cell_type": "markdown",
   "id": "13bd9509",
   "metadata": {},
   "source": [
    "- **5.7 Fruta favorita:** Crie uma lista de suas frutas favoritas e, em seguida, escreva uma série de declarações **if** independentes que verificam determinadas frutas em sua lista.\n",
    "    - Crie uma lista com suas três frutas favoritas e a nomeie como **favorite_foods**.\n",
    "    - Escreva cinco instruções **if**. Cada uma deve verificar se um determinado tipo de fruta consta em sua lista. Se sim, o bloco **if** de exibir uma afirmação do tipo: \"Você realmente gosta de bananas!\""
   ]
  },
  {
   "cell_type": "markdown",
   "id": "b4289405",
   "metadata": {},
   "source": [
    "- **5.8 Olá, admin:** Crie uma lista com cinco ou mais nomes de usuários, incluindo o nome **'admin'**. Imagine que está escrevendo um código que exibirá uma mensagem de boas-vindas aos usuários, após cada um deles logar em um site. Percorra a lista com um loop e exiba uma mensagem de boas-vindas para cada usuário.\n",
    "    - Se o nome de usuário for **'admin'**, exiba uma mensagem especial, tipo: \"Olá administrador, gostaria de ver um relatório de status?\"\n",
    "    - Caso contrário, exiba uma mensagem genérica, como: \"Olá Jaden, obrigado por fazer login novamente.\""
   ]
  },
  {
   "cell_type": "markdown",
   "id": "d377583e",
   "metadata": {},
   "source": [
    "- **5.9 Sem usuários:** Adicione um teste **if** a \"hello_admin.py\" a fim de garantir que a lista de usuários não esteja vazia.\n",
    "    - Se a lista estiver vazia, exiba a mensagem: \"É necessário encontrar alguns usuários!\"\n",
    "    - Remova todos os nomes de usuários de sua lista e verifique se a mensagem correta foi exibida."
   ]
  },
  {
   "cell_type": "markdown",
   "id": "f2a157b6",
   "metadata": {},
   "source": [
    "- **5.10 Verificando nomes de usuários:** Faça o seguinte para criar um programa que simule como os sites garantem que todos tenham um nome de usuário exclusivo.\n",
    "    - Crie lista de cinco ou mais nomes de usuários chamada **current_users**.\n",
    "    - Crie outra lista com cinco nomes de usuários chamada **new_users**. Assegure-se de que um ou dois dos nomes novos de usuário também estejam na lista **current_users**.\n",
    "    - Percorra com um loop a lista **new_users** para verificar se cada nome novo de usuário já foi usado. Se sim, exiba uma mensagem informando que a pessoa precisará inserir um nome novo de usuário. Se um nome não foi usado, exiba uma mensagem informando que o nome de usuário está disponível.\n",
    "    - Garanta que sua comparação não diferencie letras maiúsculas de minúsculas. Se **'John'** foi usa, **'JOHN'** não deve ser aceito. (Para fazer isso, será necessário fazer uma cópia de **current_users** contendo as versões em minúsculas de todos os usuários existentes.)"
   ]
  },
  {
   "cell_type": "markdown",
   "id": "993e7d38",
   "metadata": {},
   "source": [
    "- **5.11 Números ordinais:** Os números ordinais designam sua posição em uma lista, como 1° ou 2°. Em inglês, 1st ou 2nd. A maioria dos números ordinais em inglês termina th, exceto 1,2 e 3.\n",
    "    - Armazene os números de 1 a 9 em uma lista.\n",
    "    - Percorra com um loop a lista.\n",
    "    - Use uma sequência **if-elif-else** dentro do loop para exibir a terminação ordinal adequada para cada número. Sua saída deve ler **\"1st 2nd 3rd 4th 5th 6th 7th 8th 9th\"**, e cada resultado deve estar em uma linha separada."
   ]
  },
  {
   "cell_type": "markdown",
   "id": "e7a38fcf",
   "metadata": {},
   "source": [
    "- **5.12 Estilizando instruções if:** Revise os programas que escreveu neste capítulo e verifique se os seus testes condicionais foram adequadamente estilizados."
   ]
  },
  {
   "cell_type": "markdown",
   "id": "6dae4e85",
   "metadata": {},
   "source": [
    "- **5.13 Suas ideias:** Nesse momento, você é um programador mais preparado do que era quando começou a ler este livro. Agora que já tem uma noção melhor de como situações reais são modeladas em programas, talvez você esteja pensando em alguns problemas que poderia solucionar com os próprios programas. Registre qualquer ideia nova que tiver sobre problemas que queira resolver conforme suas habilidades de programação melhoram. Pense nos jogos que pode desenvolver, nos conjuntos de dados que talvez queira explorar e nas aplicações web que gostaria de criar."
   ]
  }
 ],
 "metadata": {
  "language_info": {
   "name": "python"
  }
 },
 "nbformat": 4,
 "nbformat_minor": 5
}
