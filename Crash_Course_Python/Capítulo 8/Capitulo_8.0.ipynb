{
 "cells": [
  {
   "cell_type": "markdown",
   "id": "eb9f4a74",
   "metadata": {},
   "source": [
    "- **8.1 Mensagem:** Escreva uma função chamada **display_message** que exiba uma frase contando a todo mundo o que você está aprendendo neste capítulo. Chame a função e verifique se a mensagem é adequadamente exibida."
   ]
  },
  {
   "cell_type": "markdown",
   "id": "e342e612",
   "metadata": {},
   "source": [
    "- **8.2 Livro favorito:** Escreva uma função chamada **favorite_book()** que aceite um parâmetro, **title**. A função deve exibir uma mensagem como: **\"Um dos meus livros favoritos é Alice no País das Maravilhas.\"**. Chame a função e lembre-se de incluir o título de um livro como argumento na chamada da função."
   ]
  },
  {
   "cell_type": "markdown",
   "id": "2c2e0b6a",
   "metadata": {},
   "source": [
    "- **8.3 Camiseta:** Crie uma função chamada **make_shirt()** que aceita um tamanho e o texto que deve ser estampado na camiseta. A função deve exibir uma frase resumindo o tamanho da camiseta e a mensagem estampada nela."
   ]
  },
  {
   "cell_type": "markdown",
   "id": "8c196de5",
   "metadata": {},
   "source": [
    "- **8.4 Camisetas grandes:** Modifique a função **make_shirt()** para que as camisetas sejam grandes por padrão com a seguinte frase estampada: \"Eu amo Python\". Escreva uma camiseta grande e uma média com a mensagem padrão e uma camiseta de qualquer tamanho com uma frase diferente."
   ]
  },
  {
   "cell_type": "markdown",
   "id": "58d1a0d7",
   "metadata": {},
   "source": [
    "- **8.5 Cidades:** Escreva uma função chamada **describe_city()** que aceite o nome de uma cidade e de seu país. A função deve exibir uma simples frase, como **Reykjavik fica na Islândia**. Forneça ao parâmetro do país um valor default. Chame sua função para três cidades diferentes e, pelo menos, para uma que não esteja no país default."
   ]
  },
  {
   "cell_type": "markdown",
   "id": "f11a0343",
   "metadata": {},
   "source": [
    "- **8.6 Nome de cidades:** Escreva uma função chamada **city_country()** que recebe o nome de uma cidade e seu país. A função deve retornar uma string formatada como esta:\n",
    "> \"Santiago, Chile\"\n",
    "\n",
    "Chame sua função com pelo menos três pares cidade-país e exiba os valores retornados."
   ]
  },
  {
   "cell_type": "markdown",
   "id": "1d5b423c",
   "metadata": {},
   "source": [
    "- **8.7 Álbum:** Escreva uma função chamada **make_album()** que crie um dicionário representando um álbum de música. A função deve ter o nome de um artista e o título de álbum, e deve retornar um dicionário com essas duas informações. Utilize a função para cirar três dicionários representando álbuns distintos. Exiba cada valor de retorno para mostrar que os dicionários estão armazenando adequadamente as informações do álbum.\n",
    "\n",
    "Use **None** para adicionar um parâmetro opicional ao **make_album()** que possibilite armazenar o número de músicas em um álbum. Se a linha chamadora incluir um valor para o número de músicas, adicione esse valor ao dicionário do álbum. Crie, pelo menos, uma nova chamada de função que inclua o número de músicas em um álbum."
   ]
  },
  {
   "cell_type": "markdown",
   "id": "214d5164",
   "metadata": {},
   "source": [
    "- **8.8 Álbuns de usuários:** Comece com seu programa do Exercício 8.7. Escreva um loop **while** que possibilite aos usuários inserir o artista e o título de um álbum. Após receber essas informações, chame **make_album()** com a entreda do usuário e exiba o dicionário criado. Não se esqueça de incluir um valor de saída no **loop while**."
   ]
  },
  {
   "cell_type": "markdown",
   "id": "720fb4e5",
   "metadata": {},
   "source": [
    "- **8.9 Mensagens:** Crie uma lista com uma série de mensagens curtas de texto. Passe a lista para uma função chamada **show_messages()**, que exiba cada mensagem de texto."
   ]
  },
  {
   "cell_type": "markdown",
   "id": "c7ee8d96",
   "metadata": {},
   "source": [
    "- **8.10 Enviando mensagens:** Comece com uma cópia de seu programa do Exercício 8.9. Escreva uma função chamada **send_messages()** para exibir cada mensagem de texto e passe cada mensagem para uma nova lista chamada **sent_messages** à medida que é exibida. Após chamar a função, exiba ambas as listas para ter certeza de que as mensagens foram corretamente transferidas."
   ]
  },
  {
   "cell_type": "markdown",
   "id": "45826f0d",
   "metadata": {},
   "source": [
    "- **8.11 Mensagens arquivadas:** Comece sua tarefa a partir do Exercício 8.10. Chame a função **send_messages()** com uma cópia da lista de mensagens. Após chamar a função, exiba ambas as listas para mostrar que a lista original reteve suas mensagens."
   ]
  },
  {
   "cell_type": "markdown",
   "id": "26ad61e5",
   "metadata": {},
   "source": [
    "- **8.12 Sanduíches:** Crie uma função que aceite uma lista de itens que uma pessoa quer em um sanduíche. A função deve ter um parâmetro que colete todos os itens sendo solicitado. Chame a função três vezes, com um número diferente de argumentos a cada vez."
   ]
  },
  {
   "cell_type": "markdown",
   "id": "2ebf30ba",
   "metadata": {},
   "source": [
    "- **8.13 Perfil de usuário:** Comece com uma cópia do **user_profile.py**. Crie um perfil de si mesmo chamado **build_profile()**, com seu primeiro nome e sobrenome e três outros pares chave-valor que o representem."
   ]
  },
  {
   "cell_type": "markdown",
   "id": "c160255e",
   "metadata": {},
   "source": [
    "- **8.14 Carros:** Crie uma função que armazena informações sobre um carro em um dicionário. A função deve sempre receber um fabricante e um nome de modelo. Em seguida, deve aceitar um número arbitrário de argumentos nomeados. Chame a função com as informações necessárias e os dois outros pares nome-valor, como uma cor ou um recurso opcional. Sua função deve funcionar mais ou menos assim: **'car = make_car('subaru', 'outback', color='blue', tow_package=True)'**. Exiba o dicionário retornado para garantir que todas as informações foram corretamente armazenadas."
   ]
  },
  {
   "cell_type": "markdown",
   "id": "5a9a574a",
   "metadata": {},
   "source": [
    "- **8.15 Imprimindo modelos:** Insira as funções do exemplo **printing_models.py** em um arquivo separado chamado **printing_functions.py**. Escreva uma instrução **import** na parte superior do **printing_models.py** e modifique o arquivo para usar as funções importadas."
   ]
  },
  {
   "cell_type": "markdown",
   "id": "b9e36dde",
   "metadata": {},
   "source": [
    "- **8.16 Imports:** Usando um programa que você escreveu e que tenha apenas uma função, armazene essa função em um arquivo separado. Importe a função para o arquivo de programa principal e chame a função usando cada uma dessas abordagens:\n",
    "> **import nome_módulo**\n",
    "\n",
    "> **from nome_módulo import nome_função**\n",
    "\n",
    "> **from nome_módulo import nome_função as nf**\n",
    "\n",
    "> **import nome_módulo as nm**\n",
    "\n",
    "> **from nome_módulo import \\***"
   ]
  },
  {
   "cell_type": "markdown",
   "id": "c7edc96f",
   "metadata": {},
   "source": [
    "- **8.17 Estilizando funções:** Escolha os três programas que você escreveu para este capítulo e garanta que sigam as diretrizes de estilo descritas nesta seção."
   ]
  }
 ],
 "metadata": {
  "language_info": {
   "name": "python"
  }
 },
 "nbformat": 4,
 "nbformat_minor": 5
}
