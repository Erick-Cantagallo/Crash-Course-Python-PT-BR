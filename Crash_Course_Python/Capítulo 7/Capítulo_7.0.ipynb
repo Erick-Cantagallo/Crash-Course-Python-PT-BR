{
 "cells": [
  {
   "cell_type": "markdown",
   "id": "e3cffb09",
   "metadata": {},
   "source": [
    "- **7.1 Aluguel de carro:** Escreva um programa que pergunte ao usuário que tipo de carro ele gostaria de alugar. Exiba uma mensagem sobre esse carro, como \"Vejamos se consigo encontrar um Subaru para você\"."
   ]
  },
  {
   "cell_type": "markdown",
   "id": "9a99f2e8",
   "metadata": {},
   "source": [
    "- **7.2 Reservas em restaurante:** Crie um programa que pergunte quantos lugares em uma mesa o usuário precisa. Se a resposta for mais de oito, exiba uma mensagem informando que é necessário aguardar por uma mesa. Caso contrário, informe que a mesa já está disponível."
   ]
  },
  {
   "cell_type": "markdown",
   "id": "21a468a8",
   "metadata": {},
   "source": [
    "- **7.3 Múltiplos de dez:** Solicite ao usuário um número e informe se o número é múltiplo de 10 ou não."
   ]
  },
  {
   "cell_type": "markdown",
   "id": "5b1f7b0f",
   "metadata": {},
   "source": [
    "- **7.4 Ingredientes de pizza:** Escreva um loop que solicite ao usuário uma série de ingredientes de pizza até que ele forneça o valor **'quit'**. À medida que cada ingrediente é fornecido, exiba uma mensagem informado que esses ingredientes estão sendo adicionados à pizza."
   ]
  },
  {
   "cell_type": "markdown",
   "id": "90270459",
   "metadata": {},
   "source": [
    "- **7.5 Ingressos de cinema:** Um cinema cobra preços de ingressos diferentes, dependendo da idade da pessoa. Se a pessoa for menor de 3 anos, o ingresso é gratuito; se tiver entre 3 e 12 anos, o ingresso custa US$10; e caso tenha mais de 12 anos, o ingresso custa US$15. Escreva um loop que pergunte a idade dos usuários e, em seguida, informe o preço do ingresso do cinema."
   ]
  },
  {
   "cell_type": "markdown",
   "id": "c13bf971",
   "metadata": {},
   "source": [
    "- **7.6 Três saídas:** Crie diferentes versões do Exercício 7.4 ou 7.5 que executem cada uma das seguintes tarefas, pelo menos uma vez:\n",
    "    - Use um teste condicional na instrução **while** para interromper o loop.\n",
    "    - Use uma variável **active** para controlar o tempo que o loop é executado.\n",
    "    - Use uma instrução **break** para sair do loop quando o usuário inserir o valor **'quit'**.\n",
    "    "
   ]
  },
  {
   "cell_type": "markdown",
   "id": "68dd58aa",
   "metadata": {},
   "source": [
    "- **7.7 Infinito:** Escreva e execute um loop infinito. (Para encerrar o loop, pressione \"CTRL+C\" ou feche a janela que exibe a saída.)"
   ]
  },
  {
   "cell_type": "markdown",
   "id": "057ce568",
   "metadata": {},
   "source": [
    "- **7.8 Lanchonete:** Crie uma lista **sandwich_orders** e a preencha com o nome de diversos sanduíches. Depois, crie uma lista vazia chamada **finished_sandwiches**. Percorra a lista de pedidos de sanduíches com um loop e exiba uma mensagem para cada pedido, como: \"**Seu lanche de atum** está pronto\". Conforme cada sanduíche é preparado, passe-os para a lista de sanduíches prontos. Após todos os sanduíches terem sido preparados, exiba uma mensagem enumerando cada um deles."
   ]
  },
  {
   "cell_type": "markdown",
   "id": "9189a646",
   "metadata": {},
   "source": [
    "- **7.9 Sem pastrami:** Usando a lista **sandwich_orders** do Exercício 7.8, assegure-se de que o sanduíche **'pastrami'** apareça na lista pelo menos três vezes. Faça mais um que a lanchonete está sem pastrami e, em seguida, use um loop **while** para remover todas as ocorrência de **'pastrami'** em **sandwich_orders**. Faça questão de que nenhum sanduíche de pastrami acabe em **finished_sandwiches**."
   ]
  },
  {
   "cell_type": "markdown",
   "id": "b64c3a7b",
   "metadata": {},
   "source": [
    "- **7.10 Férias tão sonhadas:** Crie uma pesquisa que pergunte aos usuários sobre as férias de seus sonhos. Crie um prompt mais ou menos assim: \"Se pudesse visitar qualquer lugar do mundo, para onde iria ?\". Inclua um bloco de códigos que exiba os resultados dessa pesquisa."
   ]
  }
 ],
 "metadata": {
  "language_info": {
   "name": "python"
  }
 },
 "nbformat": 4,
 "nbformat_minor": 5
}
