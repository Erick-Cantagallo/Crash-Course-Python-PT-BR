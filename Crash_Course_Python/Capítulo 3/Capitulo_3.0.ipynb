{
 "cells": [
  {
   "cell_type": "markdown",
   "id": "b1b8c8ba",
   "metadata": {},
   "source": [
    "- **3.1 Nomes:** Armazene o nome de alguns de seus amigos em uma lista chamada **names**. Exiba o nome de cada pessoa acessando cada elemento da lista, um de cada vez."
   ]
  },
  {
   "cell_type": "markdown",
   "id": "3509c18a",
   "metadata": {},
   "source": [
    "- **3.2 Cumprimentos:** Comece com a lista usada no Exercício 3.1, mas em vez de apenas exibir o nome de cada pessoa, exiba também uma mensagem para elas. O texto de cada mensagem deve ser o mesmo, porém, cada mensagem deve ser personalizada com o nome da pessoa."
   ]
  },
  {
   "cell_type": "markdown",
   "id": "89e8d28d",
   "metadata": {},
   "source": [
    "- **3.3 Sua própria lista:** Pense em seu meio de transporte favorito, como uma moto ou um carro, e crie uma lista que armazene dirversos exemplos. Use sua lista para exibir uma série de declarações sobre esses itens, como \"Gostaria de ter uma moto da Honda\"."
   ]
  },
  {
   "cell_type": "markdown",
   "id": "861b02c6",
   "metadata": {},
   "source": [
    "- **3.4 Lista de convidados:** Se pudesse convidar qualquer pessoa, viva ou falecida, para um jantar, quem você convidaria? Crie uma lista que tenha pelo menos três pessoas que gostaria de convidar para um jantar. Em seguida, use sua lista a fim de exibir uma mensagem para cada pessoa, convidando-a para o jantar."
   ]
  },
  {
   "cell_type": "markdown",
   "id": "cf4b13b7",
   "metadata": {},
   "source": [
    "- **3.5 Mudando a lista de convidados:** Você acabou de ficar sabendo que um dos convidados não conseguirá ir ao jantar, assim precisa enviar um conjunto novo de convites. É necessário convidar outra pessoa.\n",
    "    - Comece com o programa do Exercício 3.4. No final do programa, adicione um **print()**, informando o nome do convidado que não irá ao jantar.\n",
    "    - Modifique sua lista substituindo o nome do convidado que não pode comparecer pelo nome da pessoa que você está convidando.\n",
    "    - Exiba um segundo conjunto de mensagens de convite, uma para cada pessoa que ainda não consta em sua lista."
   ]
  },
  {
   "cell_type": "markdown",
   "id": "086261c9",
   "metadata": {},
   "source": [
    "- **3.6 Mais convidados:** Você acabou de encontrar uma mesa maior de jantar, agora há mais espaço disponível. Convide mais três pessoas para o jantar.\n",
    "    - Comece com o programa do Exercício 3.4 ou 3.5. No final do programa, adicione um **print()**, informando às pessoas que encontrou uma mesa maior.\n",
    "    - Use um **insert()** para adicionar um convidado novo ao início de sua lista.\n",
    "    - Use um **insert()** para adicionar um convidado novo no meio de sua lista.\n",
    "    - Use um **append()** para adicionar um convidado novo no final de sua lista.\n",
    "    - Exiba um conjunto novo de mensagens de convite, um para cada pessoa em sua lista.\n",
    "    "
   ]
  },
  {
   "cell_type": "markdown",
   "id": "74e141fb",
   "metadata": {},
   "source": [
    "- **3.7 Reduzindo a lista de convidados:** Você acabou de descobrir que sua mesa nova de jantar não chegará a tempo e agora tem espaço somente para dois convidados.\n",
    "    - Comece com o programa do Exercício 3.6. Adicione uma linha nova que exiba uma mensagem que você pode convidar apenas duas pessoas para o jantar.\n",
    "    - Use o **pop()** para remover convidados de sua lista, um de cada vez, até que restem somente dois nomes nela. Sempre que remover um nome de sua lista, exiba uma mensagem para essa pessoa informando que lamenta por não poder convidá-la para o jantar.\n",
    "    - Exiba uma mensagem para cada uma das duas pessoas que ainda estão na sua lista, informando que ainda estão convidadas.\n",
    "    - Use o **del** para remover os dois últimos nomes de sua lista, para que ela fique vazia. Exiba sua lista para ter certeza de que você realmente tem uma lista vazia no final do seu programa. \n"
   ]
  },
  {
   "cell_type": "markdown",
   "id": "b2cb9b72",
   "metadata": {},
   "source": [
    "- **3.8 Conhecendo o mundo:** Pense em pelo menos cinco lugares do mundo que você gostaria de conhecer.\n",
    "    - Armazene esses locais em uma lista. Verifique se ela não esta em ordem alfabética.\n",
    "    - Exiba sua lista na ordem original. Não se preocupe em exibir a lista ordenadamente; basta exibi-la como uma lista crua do Python.\n",
    "    - Use **sorted()** para exibir sua lista em ordem alfabética, sem alterar a lista original.\n",
    "    - Mostre que sua lista ainda está na ordem original exibindo-a.\n",
    "    - Use o **sorted()** para exibir sua lista em ordem alfabética reversa, sem alterar a ordem original dela.\n",
    "    - Use o **reverse()** para alterar a ordem de sua lista. Exiba essa lista para mostrar que sua ordem foi alterada.\n",
    "    - Use o **reverse()** para alterar a ordem de sua lista novamente. Exiba-a a fim de mostrar que voltou à ordem original.\n",
    "    - Use o **sort()** para alterar sua lista para que ela seja armazenada em ordem alfabética inversa. Exiba a lista para mostrar que sua ordem foi alterada.\n",
    "    - Use **sort()** para alterar sua lista, de modo que ela seja armazenada em ordem alfabética inversa. Exiba a lista para mostrar que sua ordem foi alterada."
   ]
  },
  {
   "cell_type": "markdown",
   "id": "c103f660",
   "metadata": {},
   "source": [
    "- **3.9 Convidados para o jantar:** Recorra a um dos programas dos exercícios 3.4 a 3.5, e use **len()** para exibir uma mensagem indicando o número de pessoas que você está convidando para jantar."
   ]
  },
  {
   "cell_type": "markdown",
   "id": "fa0d3c2f",
   "metadata": {},
   "source": [
    "- **3.10 Funções:** Pense em coisas que você conseguiria armazenar em uma lista. Por exemplo, você pode criar uma lista de montanhas, rios, países, cidades, idiomas ou qualquer outra coisa que quiser. Crie um programa com uma lista contendo esses itens e, em seguida, use cada função apresentada nesse capítulo, pelo menos, uma vez."
   ]
  },
  {
   "cell_type": "markdown",
   "id": "0e1162e4",
   "metadata": {},
   "source": [
    "- **3.11 Erro intencional:** Se você ainda não recebeu um erro de índice em um dos seus programas, tente gerar um. Mude um índice em um de seus programas para gerar um erro de índice. Faça questão de corrigir o erro antes de fechar o programa."
   ]
  }
 ],
 "metadata": {
  "language_info": {
   "name": "python"
  }
 },
 "nbformat": 4,
 "nbformat_minor": 5
}
