{
 "cells": [
  {
   "cell_type": "markdown",
   "id": "70aef015",
   "metadata": {},
   "source": [
    "- **6.1 Pessoa:** Use um dicionário para armazenar informações sobre uma pessoa que você conhece. Armazene o nome, sobrenome, idade e a cidade onde mora. Nomeie as chaves como **first_name**, **age** e **city**. Exiba cada informação armazenada em seu dicionário."
   ]
  },
  {
   "cell_type": "markdown",
   "id": "dd901c90",
   "metadata": {},
   "source": [
    "- **6.2 Números favoritos:** Use um dicionário para armazenar os números favoritos das pessoas. Pense em cinco nomes e os utilize como chaves em seu dicionário. Pense em um número favorito para cada pessoa e armazene cada um como um valor em seu dicionário. Exiba o nome de cada pessoa e seu número favorito. Para que tudo fique ainda mais divertido, pergunte a alguns amigos e obtenha alguns dados reais para o seu programa."
   ]
  },
  {
   "cell_type": "markdown",
   "id": "4d9df51c",
   "metadata": {},
   "source": [
    "- **6.3 Glossário:** Um dicionário Python pode ser usado para modelar um dicionário real. Contudo, para evitar confusão, vamos chamá-lo de glossário.\n",
    "    - Pense em cinco palavras do mundo de programação que você aprendeu nos capítulos anteriores. Use essas palavras como chaves em seu glossário e armazene seus significados como valores.\n",
    "    - Exiba cada palavra e seu significado como uma saída elegantemente formatada. É possível até mesmo exibir a palavra seguida por dois-pontos e depois seu significado ou a palavra em uma linha e, em seguida, exibir seu significado indentado em uma segunda linha. Use o caractere quebra de linha \"(\\n)\" para inserir uma linha em branco entre cada par palavra-significado em sua saída."
   ]
  },
  {
   "cell_type": "markdown",
   "id": "2e520c00",
   "metadata": {},
   "source": [
    "- **6.4 Glossário 2:** Agora você sabe como percorrer um dicionário com um loop, limpe o código do exercício 6.3 substituindo sua série de print() por um loop que percorre as chaves e o valor do dicionário. Quando tiver certeza de que seu loop funciona, adicione mais cinco termos Python ao seu glossário. Quando executar seu programa novamente, essas palavras e dignificados novos devem ser incluídos automaticamente na saída."
   ]
  },
  {
   "cell_type": "markdown",
   "id": "f05dfef9",
   "metadata": {},
   "source": [
    "- **6.5 Rios:** Crie um dicionário contendo os três principais rios e o país por onde cada rio passa. Um par chave-valor pode ser **'nile' : 'egypt'**.\n",
    "    - Use um loop para exibir uma frase sobre cada rio, como: \"O nilo atravessa o Egito.\"\n",
    "    - Use um loop para exibir o nome de cada rio incluído no dicionário.\n",
    "    - Use um loop para exibir o nome de cada país incluído no dicionário."
   ]
  },
  {
   "cell_type": "markdown",
   "id": "197cd930",
   "metadata": {},
   "source": [
    "- **6.6 Pesquisa:** Use o código de \"favorite_languages.py\".\n",
    "    - Crie uma lista de pessoas que deveriam participar da pesquisa de linguagem favoritas. Inclua alguns nomes que já estão no dicionário e outros que não estão.\n",
    "    - Percorra com um loop a lista de pessoas que devem participar da pesquisa. Se já tiveram respondido, exiba uma mensagem agradecendo a resposta. Se ainda não tiverem respondido, exiba uma mensagem as convidando a participar."
   ]
  },
  {
   "cell_type": "markdown",
   "id": "8d50ea4f",
   "metadata": {},
   "source": [
    "- **6.7 Pessoas:** Comece com o programa escrito para o Exercício 6.1. Crie dois dicionários novos representando pessoas diferentes e armazene todos os três dicionários em uma lista chamada **people**. Percorra sua lista de pessoas com um loop. À medida que percorre a lista, exiba tudo o que sabe sobre cada pessoa."
   ]
  },
  {
   "cell_type": "markdown",
   "id": "037a62eb",
   "metadata": {},
   "source": [
    "- **6.8 Animais de Estimação:** Crie vários dicionários, em que cada dicionário representa um animal de estimação diferente. Em cada dicionário inclua o tipo  de animal e o nome do dono. Armazene esses dicionários em uma lista chamada **pets**. Depois, percorra sua lista com um loop e, enquanto faz isso, exiba tudo o que sabe sobre cada animal de estimação."
   ]
  },
  {
   "cell_type": "markdown",
   "id": "e8059548",
   "metadata": {},
   "source": [
    "- **6.9 Lugares favoritos:** Crie um dicionário chamado **favorite_places**. Pense em três nomes para usar como chave no dicionário e armazene de um a três lugares favoritos para cada pessoa. Agora, para que este exercício fique ainda mais interessante, peça a alguns amigos que lhe digam alguns de seus lugares favoritos. Percorra o dicionário com um loop e exiba o nome de cada pessoa e seus lugares favoritos."
   ]
  },
  {
   "cell_type": "markdown",
   "id": "22fee57e",
   "metadata": {},
   "source": [
    "- **6.10 Números favoritos:** Modifique seu programa do Exercício 6.2 para que cada pessoa possa ter mais de um número favorito. Depois, exiba o nome de cada pessoa com seus números favoritos."
   ]
  },
  {
   "cell_type": "markdown",
   "id": "9a1595a2",
   "metadata": {},
   "source": [
    "- **6.11 Cidades:** Crie um dicionário chamado **cities**. Utilize o nome de três cidades como chaves de seu dicionário. Crie um dicionário de informações sobre cada cidade e inclua o país em que a cidade está, sua população aproximada e um fato sobre essa cidade. O nome das chaves para o dicionário de cada cidade devem ser alguma coisa como **country**, **population** e **fact**. Exiba o nome de cada cidade e todas as informações que você armazenou a respeito."
   ]
  },
  {
   "cell_type": "markdown",
   "id": "32645662",
   "metadata": {},
   "source": [
    "- **6.12 Extensões:** Agora que já estamos trabalhando com exemplos complexos o suficiente para que sejam mais desenvolvidos de diferentes maneira, use um dos programas de exemplo deste capítulo e o amplie, adicionando chaves e valores novos, alterando o contexto do programa ou melhorando a formatação da saída."
   ]
  }
 ],
 "metadata": {
  "language_info": {
   "name": "python"
  }
 },
 "nbformat": 4,
 "nbformat_minor": 5
}
