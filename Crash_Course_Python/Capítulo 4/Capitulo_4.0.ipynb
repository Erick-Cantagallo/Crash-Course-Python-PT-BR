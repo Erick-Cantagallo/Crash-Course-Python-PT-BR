{
 "cells": [
  {
   "cell_type": "markdown",
   "id": "2f4be730",
   "metadata": {},
   "source": [
    "- **4.1 Pizzas:** Pense em, pelo menos, três tipos que você gosta. Armazene esses nomes de pizza em uma lista e use um loop **for** para exibir o nome de cada uma.\n",
    "    - Modifique seu loop **for** a fim de que exiba uma frase usando o nome da pizza, em vez de exibir apenas o nome da pizza. Para cada pizza, você deve gerar uma linha de saída com uma simples afirmação como: \"Gosto de pizza de pepperoni\".\n",
    "    - Adicione uma linha no final do seu programa, fora do loop **for**, que ressalte o quanto você gosta de pizza. A saída deve ter três ou mais linhas sobre os tipos de pizza que você gosta e, em seguida, uma frase adicional, como \"Eu amo pizza!\"."
   ]
  },
  {
   "cell_type": "markdown",
   "id": "3bc1ddd9",
   "metadata": {},
   "source": [
    "- **4.2 Animais:** Pense em, pelo menos, três animais diferentes que compartilhem uma característica comum. Armazene o nome desses animais em uma lista e, em seguida, use um loop **for** para exibir o nome de cada animal.\n",
    "    - Modifique seu programa a fim de exibir uma afirmação sobre cada animal, como: \"Um cachorro seria um ótimo animal de estimação (pet).\"\n",
    "    - Adicione uma linha no final do seu programa, indicando o que esses animais compartilham em comum. Você pode exibir uma frase, como: \"Qualquer um desses animais daria um ótimo animal de estimação!\""
   ]
  },
  {
   "cell_type": "markdown",
   "id": "878a1518",
   "metadata": {},
   "source": [
    "- **4.3 Contando até vinte:** Use um loop **for** para exibir os números de 1 a 20, todos juntos."
   ]
  },
  {
   "cell_type": "markdown",
   "id": "5e45946a",
   "metadata": {},
   "source": [
    "- **4.4 Um milhão:** Crie uma lista com números de um a um milhão e, em seguida, utilize um loop **for** para exibi-los. (Se a saída estiver demorando muito, interrompa-a pressionando **CTRL+C** ou fechando a janela de saída.)"
   ]
  },
  {
   "cell_type": "markdown",
   "id": "196e1911",
   "metadata": {},
   "source": [
    "- **4.5 Somando um milhão:** Crie uma lista com números de um a um milhão e, em seguida, use **min()** e **max()** a fim de garantir que sua lista realmente comece em um e termine em um milhão. Além disso, use a função **sum()** para ver a rapidez com que o Python pode efetuar a soma de um milhão de números."
   ]
  },
  {
   "cell_type": "markdown",
   "id": "ab56253e",
   "metadata": {},
   "source": [
    "- **4.6 Números ímpares:** Use o terceiro argumento da função **range()** para criar uma lista com números ímpares de 1 a 20. Use o loop **for** para exibir cada número."
   ]
  },
  {
   "cell_type": "markdown",
   "id": "9a055cb9",
   "metadata": {},
   "source": [
    "- **4.7 Três:** Crie uma lista dos múltiplos de 3, de 3 a 30. Use um loop **for** para exibir os números em sua lista."
   ]
  },
  {
   "cell_type": "markdown",
   "id": "dd506630",
   "metadata": {},
   "source": [
    "- **4.8 Cubos:** Um número elevado à terceira potência é chamado de cubo. Por exemplo, no Python, o cubo de 2 é escrito como **2\\*\\*3**. Escreva uma lista dos primeiros 10 cubos (ou seja, o cubo de cada número inteiro de 1 a 10) e use um loop **for**  para exibir o valor de cada cubo."
   ]
  },
  {
   "cell_type": "markdown",
   "id": "6868d9b5",
   "metadata": {},
   "source": [
    "- **4.9 Cube Comprehension:** Use uma \"list comprehension\" para gerar uma lista dos primeiros 10 cubos."
   ]
  },
  {
   "cell_type": "markdown",
   "id": "61194cac",
   "metadata": {},
   "source": [
    "- **4.10 Fatias:** Use um dos programas que você escreveu neste capítulo, adicione diversas linhas ao final do programa para executarem o seguinte:\n",
    "    - Exiba a mensagem: \"Os três primeiros elementos da lista são:\". Em seguida use uma fatia para exibir os três primeiros elementos da lista desse programa.\n",
    "    - Exiba a mensagem: \"Os três elementos que ficam no meio da lista são:\". Depois, use uma fatia para exibir os três elementos do meio da lista.\n",
    "    - Exiba a mensagem: \"Os três últimos elementos da lista são:\". Em seguida, utilize uma fatia para exibir os três últimos elementos da lista."
   ]
  },
  {
   "cell_type": "markdown",
   "id": "20372bc1",
   "metadata": {},
   "source": [
    "- **4.11 Minhas pizzas, suas pizzas:** Comece com o programa do Exercício 4.1. Faça uma cópia da lista de pizzas e a nomeie como **friend_pizzas**. Em seguida, siga as etapas:\n",
    "    - Adicione uma pizza nova à lista original.\n",
    "    - Adicione uma pizza diferente à lista **friend_pizzas**.\n",
    "    - Prove que tem duas listas separadas. Exiba a mensagem: \"Minhas pizzas favoritas são:\". Em seguida, use um loop **for** para exibir a primeira lista. Exiba a mensagem: \"Minhas pizzas favoritas são:\". E, em seguida, use um loop **for** para exibir a segunda lista. Garanta que cada pizza nova seja armazenada na lista adequada."
   ]
  },
  {
   "cell_type": "markdown",
   "id": "98d9ee78",
   "metadata": {},
   "source": [
    "- **4.12 Mais loops:** Nesta seção, todas as versões de **food.py** evitaram o uso de loops **for** para exibição, a fim de economizar espaço. Escolha uma versão de **food.py** e escreva dois loops **for** para exibir cada lista de alimentos."
   ]
  },
  {
   "cell_type": "markdown",
   "id": "ef0d7a96",
   "metadata": {},
   "source": [
    "- **4.13 Buffet:** Um restaurante com serviço de buffet oferece somente cinco refeições básicas. Pense em cinco refeições simples e armazene-as em uma tupla.\n",
    "    - Use um loop **for** para exibir cada refeição que o restaurante oferece.\n",
    "    - Tente modififcar um dos elementos e ferifique se o Python rejeita a mudança.\n",
    "    - O restaurante muda seu cardápio, substituindo dois dos elementos por refeições diferentes. Adicione uma linha que reescreva a tupla e, depois, use um loop **for** para exibir cada um dos elementos no menu reformulado."
   ]
  },
  {
   "cell_type": "markdown",
   "id": "f9035e56",
   "metadata": {},
   "source": [
    "- **4.14 PEP 8:** Consulte o guia de estilo \"PEP 8\" orginal em **https://python.org/dev/peps/pep-0008**. Você não vai usá-lo muito agora, mas seria interessante dar uma olhada."
   ]
  },
  {
   "cell_type": "markdown",
   "id": "93755ae0",
   "metadata": {},
   "source": [
    "- **4.15 Revisão do Código:** Escolha três dos programas que você escreveu neste capítulo e modifique cada um deles para atender às recomendações \"PEP 8\".\n",
    "    - Utilize quatro espaços para cada nível de identação. Configure seu editor de text para inserir quatro espaços sempre que você pressionar a tecla \"TAB\", se ainda não tiver configurado (confira o Apêndice B para instruções sobre como fazer isso).\n",
    "    - Use menos de 80 caracteres em cada linha e configure seu editor para mostrar uma linha-guia vertical na posição do 80° caractere.\n",
    "    - Não use excessivamente linhas em branco em seus arquivos de programa."
   ]
  }
 ],
 "metadata": {
  "language_info": {
   "name": "python"
  }
 },
 "nbformat": 4,
 "nbformat_minor": 5
}
