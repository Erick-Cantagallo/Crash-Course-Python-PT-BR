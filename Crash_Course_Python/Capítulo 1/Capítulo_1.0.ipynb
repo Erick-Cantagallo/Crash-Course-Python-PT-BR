{
 "cells": [
  {
   "cell_type": "markdown",
   "id": "c426cdd1",
   "metadata": {},
   "source": [
    "- **1.1 python.org:** Explore a página inicial do Python [(https://python.org)] para encontrar tópicos de seu interesse. A medida que se familiarizar com o Python, diferentes partes do site serão mais proveitosas para você."
   ]
  },
  {
   "cell_type": "markdown",
   "id": "88abcfba",
   "metadata": {},
   "source": [
    "- **1.2 Erros de digitação do Hello World:** Abra o arquivo **hello_world.py** que acabou de criar. Cometa de propósito um erro de digitação em algum lugar da linha e execute o programa novamente. Você consegue cometer um erro de digitação que gera um erro? Consegue entender a mensagem de erro? Consegue cometer um erro de digitação que não gere um erro? Por que você acha que não gerou erro? "
   ]
  },
  {
   "cell_type": "markdown",
   "id": "bd435659",
   "metadata": {},
   "source": [
    "- **1.3 Habilidades infinitas:** Caso tivesse habilidades infinitas de programação, o que você desenvolveria? Você está prestes a aprender a programar. Caso tenha um objetivo final em mente, você usará imediatamente suas habilidades; agora é um ótimo momento para descrever de forma sucinta o que você deseja criar. É um bom hábito manter um caderno de \"ideias\" que você possa consultar sempre que quiser começar um projeto novo. Agora, reserve alguns minutos para registrar três programas que você seja criar."
   ]
  }
 ],
 "metadata": {
  "kernelspec": {
   "display_name": "Python 3",
   "language": "python",
   "name": "python3"
  },
  "language_info": {
   "name": "python",
   "version": "3.13.5"
  }
 },
 "nbformat": 4,
 "nbformat_minor": 5
}
